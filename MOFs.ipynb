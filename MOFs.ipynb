{
  "cells": [
    {
      "cell_type": "code",
      "execution_count": null,
      "metadata": {
        "id": "m7cYd6huP3_x"
      },
      "outputs": [],
      "source": [
        "import numpy as np\n",
        "import random\n",
        "import sys\n",
        "import copy\n",
        "\n",
        "import pandas as pd\n",
        "import matplotlib.pyplot as plt\n",
        "\n",
        "from sklearn.metrics import classification_report\n",
        "\n",
        "from sklearn.linear_model import LinearRegression\n",
        "from sklearn.preprocessing import PolynomialFeatures\n",
        "from sklearn.pipeline import Pipeline\n",
        "\n",
        "from sklearn.model_selection import train_test_split\n",
        "from sklearn.metrics import mean_squared_error\n",
        "from sklearn.metrics import r2_score\n",
        "from sklearn.metrics import mean_absolute_error\n",
        "\n",
        "from sklearn.metrics import classification_report"
      ]
    },
    {
      "cell_type": "code",
      "execution_count": null,
      "metadata": {
        "id": "liox69U4FIns",
        "colab": {
          "base_uri": "https://localhost:8080/"
        },
        "outputId": "5b9e0f4a-4c31-4d46-c3b7-5e481ae98810"
      },
      "outputs": [
        {
          "output_type": "stream",
          "name": "stdout",
          "text": [
            "Mounted at /content/gdrive\n"
          ]
        }
      ],
      "source": [
        "from google.colab import drive, files\n",
        "drive.mount(\"/content/gdrive\")"
      ]
    },
    {
      "cell_type": "code",
      "execution_count": null,
      "metadata": {
        "id": "sopTpAD8yW1a",
        "colab": {
          "base_uri": "https://localhost:8080/"
        },
        "outputId": "9b65259c-9a9d-4264-dab1-ca4a10df0f52"
      },
      "outputs": [
        {
          "output_type": "stream",
          "name": "stdout",
          "text": [
            "/content/gdrive/My Drive/MOFs Project\n"
          ]
        }
      ],
      "source": [
        "%cd /content/gdrive/My Drive/MOFs Project/"
      ]
    },
    {
      "cell_type": "code",
      "execution_count": null,
      "metadata": {
        "colab": {
          "base_uri": "https://localhost:8080/"
        },
        "id": "qcxka88v_5Cz",
        "outputId": "7fc9311f-c829-4f90-fa7c-29c484168d14"
      },
      "outputs": [
        {
          "output_type": "stream",
          "name": "stdout",
          "text": [
            "                                   Name       CSD refc.  DB Acr.   \\\n",
            "0                           DAKXOE_CSD17          DAKXOE    CSD17   \n",
            "1                           ENAPAL_CSD17          ENAPAL    CSD17   \n",
            "2                           BIVVEI_CSD17          BIVVEI    CSD17   \n",
            "3        str_m3_o20_o20_f0_pcu.sym.1.out  Not applicable       UO   \n",
            "4                               mof_5399  Not applicable  ToBaCCo   \n",
            "...                                  ...             ...      ...   \n",
            "98689  str_m9_o22_o22_f0_sra.sym.210.out  Not applicable       UO   \n",
            "98690   str_m9_o22_o22_f0_sra.sym.69.out  Not applicable       UO   \n",
            "98691   str_m9_o22_o22_f0_sra.sym.87.out  Not applicable       UO   \n",
            "98692     str_m9_o5_o2_f0_sra.sym.37.out  Not applicable       UO   \n",
            "98693     str_m9_o5_o2_f0_sra.sym.95.out  Not applicable       UO   \n",
            "\n",
            "                GT                   Calc. Type   Density      GSA      VSA   \\\n",
            "0              Real  Grand Canonical Monte Carlo      0.24  7697.77  1871.97   \n",
            "1              Real  Grand Canonical Monte Carlo      0.48  6108.18  2920.11   \n",
            "2              Real  Grand Canonical Monte Carlo      0.37  6827.24  2544.55   \n",
            "3      Hypothetical  Grand Canonical Monte Carlo      0.32  5637.21  1811.42   \n",
            "4      Hypothetical  Grand Canonical Monte Carlo      0.33  5777.00  1935.00   \n",
            "...             ...                          ...       ...      ...      ...   \n",
            "98689  Hypothetical  Grand Canonical Monte Carlo      2.07     0.00     0.00   \n",
            "98690  Hypothetical  Grand Canonical Monte Carlo      1.44     0.00     0.00   \n",
            "98691  Hypothetical  Grand Canonical Monte Carlo      1.43     0.00     0.00   \n",
            "98692  Hypothetical  Grand Canonical Monte Carlo      1.67     0.00     0.00   \n",
            "98693  Hypothetical  Grand Canonical Monte Carlo      3.46     0.00     0.00   \n",
            "\n",
            "        VF    PV    LCD    PLD   UG at PS   UV at PS   \\\n",
            "0      0.90  3.72  12.42  10.55      13.35      39.89   \n",
            "1      0.86  1.80   8.42   7.34       7.36      39.88   \n",
            "2      0.89  2.39  11.40  10.01       9.28      39.79   \n",
            "3      0.88  2.75  16.19  10.93      10.44      39.70   \n",
            "4      0.89  2.61  16.30  12.20       9.97      39.66   \n",
            "...     ...   ...    ...    ...        ...        ...   \n",
            "98689  0.24  0.12   3.41   1.94       0.00       0.00   \n",
            "98690  0.37  0.26   2.56   1.59       0.00       0.00   \n",
            "98691  0.38  0.27   2.56   1.54       0.00       0.00   \n",
            "98692  0.29  0.17   2.14   1.30       0.00       0.00   \n",
            "98693  0.27  0.08   3.52   0.95       0.00       0.00   \n",
            "\n",
            "                                       Source                   CSFT   \\\n",
            "0           DOI: 10.1021/acs.chemmater.7b00441  CIF (Not P1 Symmetry)   \n",
            "1           DOI: 10.1021/acs.chemmater.7b00441  CIF (Not P1 Symmetry)   \n",
            "2           DOI: 10.1021/acs.chemmater.7b00441  CIF (Not P1 Symmetry)   \n",
            "3       https://doi.org/10.1002/ejic.201600365      CIF (P1 Symmetry)   \n",
            "4                 DOI: 10.1021/acs.cgd.7b00848      CIF (P1 Symmetry)   \n",
            "...                                        ...                    ...   \n",
            "98689   https://doi.org/10.1002/ejic.201600365      CIF (P1 Symmetry)   \n",
            "98690   https://doi.org/10.1002/ejic.201600365      CIF (P1 Symmetry)   \n",
            "98691   https://doi.org/10.1002/ejic.201600365      CIF (P1 Symmetry)   \n",
            "98692   https://doi.org/10.1002/ejic.201600365      CIF (P1 Symmetry)   \n",
            "98693   https://doi.org/10.1002/ejic.201600365      CIF (P1 Symmetry)   \n",
            "\n",
            "                                                    CSA   \n",
            "0                                        Not open source  \n",
            "1                                        Not open source  \n",
            "2                                        Not open source  \n",
            "3              DOI: 10.24435/materialscloud:2018.0016/v2  \n",
            "4      Open Source (https://github.com/tobacco-mofs/t...  \n",
            "...                                                  ...  \n",
            "98689          DOI: 10.24435/materialscloud:2018.0016/v2  \n",
            "98690          DOI: 10.24435/materialscloud:2018.0016/v2  \n",
            "98691          DOI: 10.24435/materialscloud:2018.0016/v2  \n",
            "98692          DOI: 10.24435/materialscloud:2018.0016/v2  \n",
            "98693          DOI: 10.24435/materialscloud:2018.0016/v2  \n",
            "\n",
            "[98694 rows x 17 columns]\n"
          ]
        }
      ],
      "source": [
        "data = pd.read_excel(\"ps_usable_hydrogen_storage_capacity_gcmcv2.xlsx\")\n",
        "print(data)\n",
        "# data = np.asarray(data)\n",
        "# data = np.asarray(data1)"
      ]
    },
    {
      "cell_type": "code",
      "execution_count": null,
      "metadata": {
        "colab": {
          "base_uri": "https://localhost:8080/"
        },
        "id": "gnMkiXxWLCNe",
        "outputId": "c7f01fc0-dcef-47da-8b2a-e4333f642e72"
      },
      "outputs": [
        {
          "output_type": "execute_result",
          "data": {
            "text/plain": [
              "(       Density      GSA      VSA    VF    PV    LCD    PLD \n",
              " 0          0.24  7697.77  1871.97  0.90  3.72  12.42  10.55\n",
              " 1          0.48  6108.18  2920.11  0.86  1.80   8.42   7.34\n",
              " 2          0.37  6827.24  2544.55  0.89  2.39  11.40  10.01\n",
              " 3          0.32  5637.21  1811.42  0.88  2.75  16.19  10.93\n",
              " 4          0.33  5777.00  1935.00  0.89  2.61  16.30  12.20\n",
              " ...         ...      ...      ...   ...   ...    ...    ...\n",
              " 98689      2.07     0.00     0.00  0.24  0.12   3.41   1.94\n",
              " 98690      1.44     0.00     0.00  0.37  0.26   2.56   1.59\n",
              " 98691      1.43     0.00     0.00  0.38  0.27   2.56   1.54\n",
              " 98692      1.67     0.00     0.00  0.29  0.17   2.14   1.30\n",
              " 98693      3.46     0.00     0.00  0.27  0.08   3.52   0.95\n",
              " \n",
              " [98694 rows x 7 columns],\n",
              "        UG at PS \n",
              " 0          13.35\n",
              " 1           7.36\n",
              " 2           9.28\n",
              " 3          10.44\n",
              " 4           9.97\n",
              " ...          ...\n",
              " 98689       0.00\n",
              " 98690       0.00\n",
              " 98691       0.00\n",
              " 98692       0.00\n",
              " 98693       0.00\n",
              " \n",
              " [98694 rows x 1 columns])"
            ]
          },
          "metadata": {},
          "execution_count": 28
        }
      ],
      "source": [
        "X = data.iloc[:,5:12]\n",
        "y = data.iloc[:,12:13]\n",
        "# y2 = data.iloc[:,13:14]\n",
        "X, y"
      ]
    },
    {
      "cell_type": "code",
      "execution_count": null,
      "metadata": {
        "colab": {
          "base_uri": "https://localhost:8080/"
        },
        "id": "luKqiCj1AtFi",
        "outputId": "cbef357e-cf01-4180-b67e-aa90b5972061"
      },
      "outputs": [
        {
          "output_type": "stream",
          "name": "stdout",
          "text": [
            "[-16.65078672]\n",
            "[[ 2.56937034e+00  4.54630127e-03 -1.74694802e-03  3.38731999e+01\n",
            "  -3.28984937e+00  4.57418056e-01  1.78211404e-01]]\n",
            "0.915396793904106\n",
            "3.1953504378874253\n",
            "0.915396793904106\n",
            "2.3870205223943954\n",
            "0.9153767870650577\n"
          ]
        }
      ],
      "source": [
        "# Training linear model for UG values\n",
        "X_train, X_test, y_train, y_test = train_test_split(X, y, test_size=0.3, random_state=32)\n",
        "lin_reg_model = LinearRegression()\n",
        "lin_reg_model.fit(X_train, y_train)\n",
        "lin_reg_y_predicted = lin_reg_model.predict(X_test)\n",
        "lin_reg_rmse = np.sqrt(mean_squared_error(y_test, lin_reg_y_predicted))\n",
        "lin_reg_rmse\n",
        "wts_lr = lin_reg_model.coef_\n",
        "print(lin_reg_model.intercept_)\n",
        "print(wts_lr)\n",
        "print(lin_reg_model.score(X_test, y_test))\n",
        "print(lin_reg_rmse)\n",
        "print(r2_score(y_test, lin_reg_y_predicted))\n",
        "print(mean_absolute_error(y_test, lin_reg_y_predicted))\n",
        "# print(X_test.shape[0])\n",
        "print(1-(1-r2_score(y_test, lin_reg_y_predicted))*((X_test.shape[0]-1)/(X_test.shape[0]-X_test.shape[1]-1)))"
      ]
    },
    {
      "cell_type": "code",
      "source": [
        "# print(wts_lr[0])\n",
        "a= np.array([[1,2]])\n",
        "b=np.array([[1,2]])\n",
        "# print(np.matmul(a,b.T))\n",
        "\n",
        "# print(np.matmul(np.array(X.iloc[0,:]).reshape(7,1).T,np.array(wts_lr[0]).reshape(7,1)))\n",
        "\n",
        "t= X.iloc[:10,:]\n",
        "\n",
        "print(np.matmul(np.array(t).T,t).shape)\n"
      ],
      "metadata": {
        "colab": {
          "base_uri": "https://localhost:8080/"
        },
        "id": "iqn3YMnGUbta",
        "outputId": "d7339530-578d-43b2-c967-c575ec1c0659"
      },
      "execution_count": null,
      "outputs": [
        {
          "output_type": "stream",
          "name": "stdout",
          "text": [
            "(7, 7)\n"
          ]
        }
      ]
    },
    {
      "cell_type": "code",
      "execution_count": null,
      "metadata": {
        "colab": {
          "base_uri": "https://localhost:8080/"
        },
        "id": "hH1sgNRA4uOa",
        "outputId": "47377086-d0c7-449b-9240-576333e36ba9"
      },
      "outputs": [
        {
          "output_type": "stream",
          "name": "stdout",
          "text": [
            "PolynomialFeatures(degree=3)\n",
            "['1' 'Density ' 'GSA ' 'VSA ' 'VF ' 'PV ' 'LCD ' 'PLD ' 'Density ^2'\n",
            " 'Density  GSA ' 'Density  VSA ' 'Density  VF ' 'Density  PV '\n",
            " 'Density  LCD ' 'Density  PLD ' 'GSA ^2' 'GSA  VSA ' 'GSA  VF '\n",
            " 'GSA  PV ' 'GSA  LCD ' 'GSA  PLD ' 'VSA ^2' 'VSA  VF ' 'VSA  PV '\n",
            " 'VSA  LCD ' 'VSA  PLD ' 'VF ^2' 'VF  PV ' 'VF  LCD ' 'VF  PLD ' 'PV ^2'\n",
            " 'PV  LCD ' 'PV  PLD ' 'LCD ^2' 'LCD  PLD ' 'PLD ^2' 'Density ^3'\n",
            " 'Density ^2 GSA ' 'Density ^2 VSA ' 'Density ^2 VF ' 'Density ^2 PV '\n",
            " 'Density ^2 LCD ' 'Density ^2 PLD ' 'Density  GSA ^2'\n",
            " 'Density  GSA  VSA ' 'Density  GSA  VF ' 'Density  GSA  PV '\n",
            " 'Density  GSA  LCD ' 'Density  GSA  PLD ' 'Density  VSA ^2'\n",
            " 'Density  VSA  VF ' 'Density  VSA  PV ' 'Density  VSA  LCD '\n",
            " 'Density  VSA  PLD ' 'Density  VF ^2' 'Density  VF  PV '\n",
            " 'Density  VF  LCD ' 'Density  VF  PLD ' 'Density  PV ^2'\n",
            " 'Density  PV  LCD ' 'Density  PV  PLD ' 'Density  LCD ^2'\n",
            " 'Density  LCD  PLD ' 'Density  PLD ^2' 'GSA ^3' 'GSA ^2 VSA '\n",
            " 'GSA ^2 VF ' 'GSA ^2 PV ' 'GSA ^2 LCD ' 'GSA ^2 PLD ' 'GSA  VSA ^2'\n",
            " 'GSA  VSA  VF ' 'GSA  VSA  PV ' 'GSA  VSA  LCD ' 'GSA  VSA  PLD '\n",
            " 'GSA  VF ^2' 'GSA  VF  PV ' 'GSA  VF  LCD ' 'GSA  VF  PLD ' 'GSA  PV ^2'\n",
            " 'GSA  PV  LCD ' 'GSA  PV  PLD ' 'GSA  LCD ^2' 'GSA  LCD  PLD '\n",
            " 'GSA  PLD ^2' 'VSA ^3' 'VSA ^2 VF ' 'VSA ^2 PV ' 'VSA ^2 LCD '\n",
            " 'VSA ^2 PLD ' 'VSA  VF ^2' 'VSA  VF  PV ' 'VSA  VF  LCD ' 'VSA  VF  PLD '\n",
            " 'VSA  PV ^2' 'VSA  PV  LCD ' 'VSA  PV  PLD ' 'VSA  LCD ^2'\n",
            " 'VSA  LCD  PLD ' 'VSA  PLD ^2' 'VF ^3' 'VF ^2 PV ' 'VF ^2 LCD '\n",
            " 'VF ^2 PLD ' 'VF  PV ^2' 'VF  PV  LCD ' 'VF  PV  PLD ' 'VF  LCD ^2'\n",
            " 'VF  LCD  PLD ' 'VF  PLD ^2' 'PV ^3' 'PV ^2 LCD ' 'PV ^2 PLD '\n",
            " 'PV  LCD ^2' 'PV  LCD  PLD ' 'PV  PLD ^2' 'LCD ^3' 'LCD ^2 PLD '\n",
            " 'LCD  PLD ^2' 'PLD ^3']\n"
          ]
        }
      ],
      "source": [
        "# Training polynomial model for UG values\n",
        "poly =  PolynomialFeatures(degree=3, include_bias=True)\n",
        "poly_features = poly.fit_transform(X)\n",
        "r = poly.get_feature_names_out()\n",
        "print(poly)\n",
        "print(r)\n",
        "# print(poly_features.get_feature_names(data1.columns))\n",
        "X_train, X_test, y_train, y_test = train_test_split(poly_features, y, test_size=0.3, random_state = 42)"
      ]
    },
    {
      "cell_type": "code",
      "execution_count": null,
      "metadata": {
        "colab": {
          "base_uri": "https://localhost:8080/",
          "height": 75
        },
        "id": "FDQp_UOd4_yp",
        "outputId": "464d0254-cbb1-48c3-e81c-769557985496"
      },
      "outputs": [
        {
          "output_type": "execute_result",
          "data": {
            "text/plain": [
              "LinearRegression()"
            ],
            "text/html": [
              "<style>#sk-container-id-6 {color: black;background-color: white;}#sk-container-id-6 pre{padding: 0;}#sk-container-id-6 div.sk-toggleable {background-color: white;}#sk-container-id-6 label.sk-toggleable__label {cursor: pointer;display: block;width: 100%;margin-bottom: 0;padding: 0.3em;box-sizing: border-box;text-align: center;}#sk-container-id-6 label.sk-toggleable__label-arrow:before {content: \"▸\";float: left;margin-right: 0.25em;color: #696969;}#sk-container-id-6 label.sk-toggleable__label-arrow:hover:before {color: black;}#sk-container-id-6 div.sk-estimator:hover label.sk-toggleable__label-arrow:before {color: black;}#sk-container-id-6 div.sk-toggleable__content {max-height: 0;max-width: 0;overflow: hidden;text-align: left;background-color: #f0f8ff;}#sk-container-id-6 div.sk-toggleable__content pre {margin: 0.2em;color: black;border-radius: 0.25em;background-color: #f0f8ff;}#sk-container-id-6 input.sk-toggleable__control:checked~div.sk-toggleable__content {max-height: 200px;max-width: 100%;overflow: auto;}#sk-container-id-6 input.sk-toggleable__control:checked~label.sk-toggleable__label-arrow:before {content: \"▾\";}#sk-container-id-6 div.sk-estimator input.sk-toggleable__control:checked~label.sk-toggleable__label {background-color: #d4ebff;}#sk-container-id-6 div.sk-label input.sk-toggleable__control:checked~label.sk-toggleable__label {background-color: #d4ebff;}#sk-container-id-6 input.sk-hidden--visually {border: 0;clip: rect(1px 1px 1px 1px);clip: rect(1px, 1px, 1px, 1px);height: 1px;margin: -1px;overflow: hidden;padding: 0;position: absolute;width: 1px;}#sk-container-id-6 div.sk-estimator {font-family: monospace;background-color: #f0f8ff;border: 1px dotted black;border-radius: 0.25em;box-sizing: border-box;margin-bottom: 0.5em;}#sk-container-id-6 div.sk-estimator:hover {background-color: #d4ebff;}#sk-container-id-6 div.sk-parallel-item::after {content: \"\";width: 100%;border-bottom: 1px solid gray;flex-grow: 1;}#sk-container-id-6 div.sk-label:hover label.sk-toggleable__label {background-color: #d4ebff;}#sk-container-id-6 div.sk-serial::before {content: \"\";position: absolute;border-left: 1px solid gray;box-sizing: border-box;top: 0;bottom: 0;left: 50%;z-index: 0;}#sk-container-id-6 div.sk-serial {display: flex;flex-direction: column;align-items: center;background-color: white;padding-right: 0.2em;padding-left: 0.2em;position: relative;}#sk-container-id-6 div.sk-item {position: relative;z-index: 1;}#sk-container-id-6 div.sk-parallel {display: flex;align-items: stretch;justify-content: center;background-color: white;position: relative;}#sk-container-id-6 div.sk-item::before, #sk-container-id-6 div.sk-parallel-item::before {content: \"\";position: absolute;border-left: 1px solid gray;box-sizing: border-box;top: 0;bottom: 0;left: 50%;z-index: -1;}#sk-container-id-6 div.sk-parallel-item {display: flex;flex-direction: column;z-index: 1;position: relative;background-color: white;}#sk-container-id-6 div.sk-parallel-item:first-child::after {align-self: flex-end;width: 50%;}#sk-container-id-6 div.sk-parallel-item:last-child::after {align-self: flex-start;width: 50%;}#sk-container-id-6 div.sk-parallel-item:only-child::after {width: 0;}#sk-container-id-6 div.sk-dashed-wrapped {border: 1px dashed gray;margin: 0 0.4em 0.5em 0.4em;box-sizing: border-box;padding-bottom: 0.4em;background-color: white;}#sk-container-id-6 div.sk-label label {font-family: monospace;font-weight: bold;display: inline-block;line-height: 1.2em;}#sk-container-id-6 div.sk-label-container {text-align: center;}#sk-container-id-6 div.sk-container {/* jupyter's `normalize.less` sets `[hidden] { display: none; }` but bootstrap.min.css set `[hidden] { display: none !important; }` so we also need the `!important` here to be able to override the default hidden behavior on the sphinx rendered scikit-learn.org. See: https://github.com/scikit-learn/scikit-learn/issues/21755 */display: inline-block !important;position: relative;}#sk-container-id-6 div.sk-text-repr-fallback {display: none;}</style><div id=\"sk-container-id-6\" class=\"sk-top-container\"><div class=\"sk-text-repr-fallback\"><pre>LinearRegression()</pre><b>In a Jupyter environment, please rerun this cell to show the HTML representation or trust the notebook. <br />On GitHub, the HTML representation is unable to render, please try loading this page with nbviewer.org.</b></div><div class=\"sk-container\" hidden><div class=\"sk-item\"><div class=\"sk-estimator sk-toggleable\"><input class=\"sk-toggleable__control sk-hidden--visually\" id=\"sk-estimator-id-6\" type=\"checkbox\" checked><label for=\"sk-estimator-id-6\" class=\"sk-toggleable__label sk-toggleable__label-arrow\">LinearRegression</label><div class=\"sk-toggleable__content\"><pre>LinearRegression()</pre></div></div></div></div></div>"
            ]
          },
          "metadata": {},
          "execution_count": 30
        }
      ],
      "source": [
        "poly_reg_model = LinearRegression()\n",
        "poly_reg_model.fit(X_train, y_train)"
      ]
    },
    {
      "cell_type": "code",
      "execution_count": null,
      "metadata": {
        "colab": {
          "base_uri": "https://localhost:8080/"
        },
        "id": "2oe4yJ2W5C0P",
        "outputId": "b8f022b2-40fa-4d35-cf5c-2b0e11f787a5"
      },
      "outputs": [
        {
          "output_type": "execute_result",
          "data": {
            "text/plain": [
              "0.20103222870617712"
            ]
          },
          "metadata": {},
          "execution_count": 31
        }
      ],
      "source": [
        "poly_reg_y_predicted = poly_reg_model.predict(X_test)\n",
        "from sklearn.metrics import mean_squared_error\n",
        "poly_reg_rmse = np.sqrt(mean_squared_error(y_test, poly_reg_y_predicted))\n",
        "poly_reg_rmse"
      ]
    },
    {
      "cell_type": "code",
      "execution_count": null,
      "metadata": {
        "id": "ZyLlwNaIxVt9"
      },
      "outputs": [],
      "source": [
        "# from tabulate import tabulate\n",
        "# # headers = [Model, UG, UV]\n",
        "# # brr = [(Linear, 0.986338, 0.918996), (Quadratic, 0.995655 ,0.974634), {Cubic, 0.996760,0.981551}]\n",
        "# xx = {\"Model\": ['Linear', 'Quadratic', 'Cubic'], \"UG\": [0.986338, 0.995655,0.996760], \"UV\": [0.918996,0.974634,0.981551]}\n",
        "# print(tabulate(xx, headers = \"keys\"))"
      ]
    },
    {
      "cell_type": "code",
      "execution_count": null,
      "metadata": {
        "colab": {
          "base_uri": "https://localhost:8080/"
        },
        "id": "S7eF5_0o6GLQ",
        "outputId": "7396cedd-67ad-47ff-e1b9-86415327b0f2"
      },
      "outputs": [
        {
          "output_type": "stream",
          "name": "stdout",
          "text": [
            "0.9968767584204999\n",
            "0.9968767584204999\n",
            "0.14340015627248762\n",
            "[[ 2.37841123e-04 -8.87597202e+00  4.95455651e-03  2.54272989e-03\n",
            "  -3.44508762e+01 -3.02146411e+01  4.32517247e-01  1.98328200e-01\n",
            "   2.38301549e+00 -4.68410991e-03 -3.86717450e-04  2.07571341e+01\n",
            "   1.78422792e+01 -4.75570886e-01 -1.42004719e-01  1.49392714e-06\n",
            "  -3.73962268e-06 -1.17202228e-02 -2.73120392e-03  1.34140842e-04\n",
            "  -9.69174029e-05  1.03398859e-06 -3.41668584e-03  1.97364443e-04\n",
            "   1.05760647e-04  1.16787174e-04  6.88621863e+00  8.79640442e+01\n",
            "   5.06391218e-01 -7.98559336e-01  4.68236403e-01 -8.30753900e-01\n",
            "   4.99450769e-01 -1.81249220e-02  1.47518010e-03  6.68000737e-03\n",
            "  -2.14066983e-01  9.63342470e-04 -3.89785690e-05 -3.04541605e+00\n",
            "  -2.81291911e+00  8.97603804e-02  2.97012036e-02 -5.86627101e-07\n",
            "   2.04290636e-06  6.31176740e-03  5.05185218e-04 -5.64848129e-06\n",
            "  -9.09177527e-05  1.18010314e-07  6.07398937e-05 -3.71088359e-03\n",
            "  -5.51057712e-05 -4.75246115e-05 -5.32287270e+00 -2.30593469e+01\n",
            "  -1.11255834e-02  4.18588553e-01 -4.76180439e-01  5.52018900e-01\n",
            "  -2.14549861e-01  4.22891863e-03  6.41676358e-03 -1.23635934e-02\n",
            "   3.45998785e-11 -1.28455468e-10 -1.38411559e-06 -8.19873645e-08\n",
            "   9.32281807e-09  2.14542588e-08  1.90393479e-10  3.17512326e-06\n",
            "  -6.73015536e-07 -5.85152442e-08 -5.13222265e-08  8.89895773e-03\n",
            "   2.85649207e-03 -3.36536211e-04  3.14511360e-04  5.14061681e-05\n",
            "  -1.02610126e-05 -2.43124290e-05  3.48241990e-07  1.24136246e-07\n",
            "   6.28664679e-07 -2.31779040e-11 -5.02849964e-06  2.82176907e-06\n",
            "   7.04466920e-08  1.71755876e-08  1.74502269e-03  3.02084033e-05\n",
            "  -1.81305298e-04  3.94642873e-04  8.40134856e-04  2.31328756e-04\n",
            "  -3.51006110e-04 -9.10614471e-07  2.56414869e-06 -2.92243536e-06\n",
            "   1.88423436e+01 -5.79107492e+01 -1.15935586e+00  2.25393916e-01\n",
            "  -8.31158374e-01  8.22070787e-01 -3.13671964e-01  2.37590863e-02\n",
            "  -1.70046393e-02  5.43744526e-03 -5.24729402e-03  1.32750604e-03\n",
            "   4.00545843e-03  3.61711774e-04  2.44638430e-05 -1.38706523e-03\n",
            "  -2.14736722e-04  5.21687736e-04 -5.00517088e-04  1.99082406e-04]]\n",
            "(120, 1)\n"
          ]
        }
      ],
      "source": [
        "print(poly_reg_model.score(X_test, y_test))\n",
        "print(r2_score(y_test, poly_reg_y_predicted))\n",
        "print(mean_absolute_error(y_test, poly_reg_y_predicted))\n",
        "# print(1-(1-r2_score(y_test, poly_reg_y_predicted))*((X_test.shape[0]-1)/(X_test.shape[0]-X_test.shape[1]-1)))\n",
        "wts = poly_reg_model.coef_\n",
        "np.asarray(wts)\n",
        "wts = wts.T\n",
        "print(wts.T)\n",
        "print(wts.shape)"
      ]
    },
    {
      "cell_type": "code",
      "execution_count": null,
      "metadata": {
        "id": "Bzy3nt-A-aMn"
      },
      "outputs": [],
      "source": [
        "def fitness_ug(position):\n",
        "    dim = len(position)\n",
        "    i = 0\n",
        "    fitness_value = 0.0\n",
        "    # print(len(position))\n",
        "    position = np.asarray(position)\n",
        "    while i < len(wts):\n",
        "      for f in range(dim):\n",
        "        xf = position[f]\n",
        "        fitness_value += xf*wts[i]\n",
        "        i += 1\n",
        "      for s1 in range(dim):\n",
        "        xs1 = position[s1]\n",
        "        for s2 in range(dim):\n",
        "          if s1+s2<dim:\n",
        "            xs2 = position[s1+s2]\n",
        "            fitness_value += xs1*xs2*wts[i]\n",
        "            i += 1\n",
        "      # for t1 in range(dim):\n",
        "      #   xt1 = position[t1]\n",
        "      #   for t2 in range(dim):\n",
        "      #     if t1+t2<dim:\n",
        "      #       xt2 = position[t2+t1]\n",
        "      #       for t3 in range(dim):\n",
        "      #         if t1+t2+t3<dim:\n",
        "      #           xt3 = position[t1+t2+t3]\n",
        "      #           fitness_value += xt1*xt2*xt3*wts[i]\n",
        "      #           i += 1\n",
        "    return fitness_value"
      ]
    },
    {
      "cell_type": "code",
      "execution_count": null,
      "metadata": {
        "id": "vrKnGVedBPmC"
      },
      "outputs": [],
      "source": [
        "class wolf:\n",
        "  def __init__(self, fitness, dim, minx, maxx, seed):\n",
        "    self.rnd = random.Random(seed)\n",
        "    self.position = [0.0 for i in range(dim)]\n",
        "\n",
        "    for i in range(dim):\n",
        "      self.position[i] = ((maxx[i] - minx[i]) * self.rnd.random() + minx[i])\n",
        "\n",
        "    self.fitness = fitness(self.position)"
      ]
    },
    {
      "cell_type": "code",
      "execution_count": null,
      "metadata": {
        "id": "icPfe13iBTuo"
      },
      "outputs": [],
      "source": [
        "def gwo(fitness, max_iter, n, dim, minx, maxx):\n",
        "    rnd = random.Random(0)\n",
        "\n",
        "    # create n random wolves\n",
        "    population = [ wolf(fitness, dim, minx, maxx, i) for i in range(n)]\n",
        "\n",
        "    # On the basis of fitness values of wolves\n",
        "    # sort the population in asc order\n",
        "    population = sorted(population, key = lambda temp: temp.fitness)\n",
        "\n",
        "    # best 3 solutions will be called as\n",
        "    # alpha, beta and gaama\n",
        "    alpha_wolf, beta_wolf, gamma_wolf = copy.copy(population[: 3])\n",
        "\n",
        "\n",
        "    # main loop of gwo\n",
        "    Iter = 0\n",
        "    while Iter < max_iter:\n",
        "\n",
        "        # after every 10 iterations\n",
        "        # print iteration number and best fitness value so far\n",
        "        if Iter % 10 == 0 and Iter > 1:\n",
        "            print(\"Iter = \" + str(Iter) + \" best fitness = %.3f\" % alpha_wolf.fitness)\n",
        "\n",
        "        # linearly decreased from 2 to 0\n",
        "        a = 2*(1 - Iter/max_iter)\n",
        "\n",
        "        # updating each population member with the help of best three members\n",
        "        for i in range(n):\n",
        "            A1, A2, A3 = a * (2 * rnd.random() - 1), a * (2 * rnd.random() - 1), a * (2 * rnd.random() - 1)\n",
        "            C1, C2, C3 = 2 * rnd.random(), 2*rnd.random(), 2*rnd.random()\n",
        "\n",
        "            X1 = [0.0 for i in range(dim)]\n",
        "            X2 = [0.0 for i in range(dim)]\n",
        "            X3 = [0.0 for i in range(dim)]\n",
        "            Xnew = [0.0 for i in range(dim)]\n",
        "            for j in range(dim):\n",
        "                X1[j] = alpha_wolf.position[j] - A1 * abs(C1 * alpha_wolf.position[j] - population[i].position[j])\n",
        "                X2[j] = beta_wolf.position[j] - A2 * abs(C2 *  beta_wolf.position[j] - population[i].position[j])\n",
        "                X3[j] = gamma_wolf.position[j] - A3 * abs(C3 * gamma_wolf.position[j] - population[i].position[j])\n",
        "                Xnew[j]+= X1[j] + X2[j] + X3[j]\n",
        "\n",
        "            for j in range(dim):\n",
        "                Xnew[j]/=3.0\n",
        "\n",
        "            # for j in range(dim):\n",
        "            #   if Xnew[j]<0:\n",
        "            #     Xnew[j]=0\n",
        "\n",
        "            # fitness calculation of new solution\n",
        "            fnew = fitness(Xnew)\n",
        "\n",
        "            # greedy selection\n",
        "            if fnew > population[i].fitness:\n",
        "                population[i].position = Xnew\n",
        "                population[i].fitness = fnew\n",
        "\n",
        "        # On the basis of fitness values of wolves\n",
        "        # sort the population in asc order\n",
        "        population = sorted(population, key = lambda temp: temp.fitness)\n",
        "\n",
        "        # best 3 solutions will be called as\n",
        "        # alpha, beta and gaama\n",
        "        alpha_wolf, beta_wolf, gamma_wolf = copy.copy(population[: 3])\n",
        "\n",
        "        Iter+= 1\n",
        "    # end-while\n",
        "\n",
        "    # returning the best solution\n",
        "    return alpha_wolf.position"
      ]
    },
    {
      "cell_type": "code",
      "execution_count": null,
      "metadata": {
        "colab": {
          "background_save": true,
          "base_uri": "https://localhost:8080/"
        },
        "id": "zDmMjQJHBXXa",
        "outputId": "dbe02c0b-df38-46bb-b5cc-abce54ecd9d3"
      },
      "outputs": [
        {
          "name": "stdout",
          "output_type": "stream",
          "text": [
            "\n",
            "Begin grey wolf optimization on function\n",
            "\n",
            "Setting num_particles = 170\n",
            "Setting max_iter = 100\n",
            "\n",
            "Starting GWO algorithm\n",
            "\n",
            "Iter = 10 best fitness = 13.149\n",
            "Iter = 20 best fitness = 49.599\n",
            "Iter = 30 best fitness = 99.790\n",
            "Iter = 40 best fitness = 274.638\n",
            "Iter = 50 best fitness = 641.468\n",
            "Iter = 60 best fitness = 1367.656\n",
            "Iter = 70 best fitness = 2497.071\n",
            "Iter = 80 best fitness = 3083.020\n",
            "Iter = 90 best fitness = 3993.749\n",
            "\n",
            "GWO completed\n",
            "\n",
            "\n",
            "Best solution found:\n",
            "['23.666085', '73699.532230', '29002.276652', '14.923276', '38.555437', '293.518011', '322.087657']\n",
            "Fitness of best solution = 4522.731262\n",
            "\n",
            "End GWO for function\n",
            "\n"
          ]
        }
      ],
      "source": [
        "print(\"\\nBegin grey wolf optimization on function\\n\")\n",
        "dim = 7\n",
        "fitness = fitness_ug\n",
        "\n",
        "num_particles = 190\n",
        "max_iter = 100\n",
        "# minx = [0, 0, 0, 0, 0, 0, 0]\n",
        "# maxx = [7, 10000, 4000, 1, 40, 80, 80]\n",
        "minx = [0.3, 200, 500, 0.45, 0.25, 4.8, 2.5]\n",
        "maxx = [2, 5400, 2500, 0.99, 4, 25, 18]\n",
        "# Best results for UV while using reduced range and 29,36,39,40,44\n",
        "# Best results for UG while using unreduced range and values [60,80]\n",
        "\n",
        "print(\"Setting num_particles = \" + str(num_particles))\n",
        "print(\"Setting max_iter = \" + str(max_iter))\n",
        "print(\"\\nStarting GWO algorithm\\n\")\n",
        "\n",
        "\n",
        "best_position = gwo(fitness, max_iter, num_particles,7, minx, maxx)\n",
        "\n",
        "print(\"\\nGWO completed\\n\")\n",
        "print(\"\\nBest solution found:\")\n",
        "print([\"%.6f\"%best_position[k] for k in range(dim)])\n",
        "err = fitness(best_position)\n",
        "print(\"Fitness of best solution = %.6f\" % err)\n",
        "\n",
        "print(\"\\nEnd GWO for function\\n\")"
      ]
    },
    {
      "cell_type": "code",
      "execution_count": null,
      "metadata": {
        "id": "HMdvOLq7lnYn"
      },
      "outputs": [],
      "source": [
        "class solution:\n",
        "    def __init__(self):\n",
        "        self.best = 0\n",
        "        self.bestIndividual = []\n",
        "        self.convergence = []\n",
        "        self.optimizer = \"\"\n",
        "        self.objfname = \"\"\n",
        "        self.startTime = 0\n",
        "        self.endTime = 0\n",
        "        self.executionTime = 0\n",
        "        self.lb = 0\n",
        "        self.ub = 0\n",
        "        self.dim = 0\n",
        "        self.popnum = 0\n",
        "        self.maxiers = 0"
      ]
    },
    {
      "cell_type": "code",
      "execution_count": null,
      "metadata": {
        "id": "g0SSVgItjo8q"
      },
      "outputs": [],
      "source": [
        "import random\n",
        "import numpy\n",
        "import math\n",
        "# from solution import solution\n",
        "import time\n",
        "\n",
        "\n",
        "def GWO(objf, lb, ub, dim, SearchAgents_no, Max_iter):\n",
        "\n",
        "    # Max_iter=1000\n",
        "    # lb=-100\n",
        "    # ub=100\n",
        "    # dim=30\n",
        "    # SearchAgents_no=5\n",
        "\n",
        "    # initialize alpha, beta, and delta_pos\n",
        "    Alpha_pos = numpy.zeros(dim)\n",
        "    Alpha_score = 0.0\n",
        "\n",
        "    Beta_pos = numpy.zeros(dim)\n",
        "    Beta_score = 0.0\n",
        "\n",
        "    Delta_pos = numpy.zeros(dim)\n",
        "    Delta_score = 0.0\n",
        "\n",
        "    if not isinstance(lb, list):\n",
        "        lb = [lb] * dim\n",
        "    if not isinstance(ub, list):\n",
        "        ub = [ub] * dim\n",
        "\n",
        "    # Initialize the positions of search agents\n",
        "    Positions = numpy.zeros((SearchAgents_no, dim))\n",
        "    for i in range(dim):\n",
        "        Positions[:, i] = (\n",
        "            numpy.random.uniform(0, 1, SearchAgents_no) * (ub[i] - lb[i]) + lb[i]\n",
        "        )\n",
        "\n",
        "    Convergence_curve = numpy.zeros(Max_iter)\n",
        "    s = solution()\n",
        "\n",
        "    # Loop counter\n",
        "    print('GWO is optimizing  \"' + objf.__name__ + '\"')\n",
        "\n",
        "    timerStart = time.time()\n",
        "    s.startTime = time.strftime(\"%Y-%m-%d-%H-%M-%S\")\n",
        "    # Main loop\n",
        "    for l in range(0, Max_iter):\n",
        "        for i in range(0, SearchAgents_no):\n",
        "\n",
        "            # Return back the search agents that go beyond the boundaries of the search space\n",
        "            for j in range(dim):\n",
        "                Positions[i, j] = numpy.clip(Positions[i, j], lb[j], ub[j])\n",
        "\n",
        "            # Calculate objective function for each search agent\n",
        "            fitness = objf(Positions[i, :])\n",
        "\n",
        "            # Update Alpha, Beta, and Delta\n",
        "            if fitness > Alpha_score:\n",
        "                Delta_score = Beta_score  # Update delte\n",
        "                Delta_pos = Beta_pos.copy()\n",
        "                Beta_score = Alpha_score  # Update beta\n",
        "                Beta_pos = Alpha_pos.copy()\n",
        "                Alpha_score = fitness\n",
        "                # Update alpha\n",
        "                Alpha_pos = Positions[i, :].copy()\n",
        "\n",
        "            if fitness < Alpha_score and fitness > Beta_score:\n",
        "                Delta_score = Beta_score  # Update delte\n",
        "                Delta_pos = Beta_pos.copy()\n",
        "                Beta_score = fitness  # Update beta\n",
        "                Beta_pos = Positions[i, :].copy()\n",
        "\n",
        "            if fitness < Alpha_score and fitness < Beta_score and fitness > Delta_score:\n",
        "                Delta_score = fitness  # Update delta\n",
        "                Delta_pos = Positions[i, :].copy()\n",
        "\n",
        "        a = 2 - l * ((2) / Max_iter)\n",
        "        # a decreases linearly fron 2 to 0\n",
        "\n",
        "        # Update the Position of search agents including omegas\n",
        "        for i in range(0, SearchAgents_no):\n",
        "            for j in range(0, dim):\n",
        "\n",
        "                r1 = random.random()  # r1 is a random number in [0,1]\n",
        "                r2 = random.random()  # r2 is a random number in [0,1]\n",
        "\n",
        "                A1 = 2 * a * r1 - a\n",
        "                # Equation (3.3)\n",
        "                C1 = 2 * r2\n",
        "                # Equation (3.4)\n",
        "\n",
        "                D_alpha = abs(C1 * Alpha_pos[j] - Positions[i, j])\n",
        "                # Equation (3.5)-part 1\n",
        "                X1 = Alpha_pos[j] - A1 * D_alpha\n",
        "                # Equation (3.6)-part 1\n",
        "\n",
        "                r1 = random.random()\n",
        "                r2 = random.random()\n",
        "\n",
        "                A2 = 2 * a * r1 - a\n",
        "                # Equation (3.3)\n",
        "                C2 = 2 * r2\n",
        "                # Equation (3.4)\n",
        "\n",
        "                D_beta = abs(C2 * Beta_pos[j] - Positions[i, j])\n",
        "                # Equation (3.5)-part 2\n",
        "                X2 = Beta_pos[j] - A2 * D_beta\n",
        "                # Equation (3.6)-part 2\n",
        "\n",
        "                r1 = random.random()\n",
        "                r2 = random.random()\n",
        "\n",
        "                A3 = 2 * a * r1 - a\n",
        "                # Equation (3.3)\n",
        "                C3 = 2 * r2\n",
        "                # Equation (3.4)\n",
        "\n",
        "                D_delta = abs(C3 * Delta_pos[j] - Positions[i, j])\n",
        "                # Equation (3.5)-part 3\n",
        "                X3 = Delta_pos[j] - A3 * D_delta\n",
        "                # Equation (3.5)-part 3\n",
        "\n",
        "                Positions[i, j] = (X1 + X2 + X3) / 3  # Equation (3.7)\n",
        "\n",
        "        Convergence_curve[l] = Alpha_score\n",
        "\n",
        "        if l % 1 == 0:\n",
        "            print(\n",
        "                [\"At iteration \" + str(l) + \" the best fitness is \" + str(Alpha_score)]\n",
        "            )\n",
        "            # print(\"At iteration \" + str(l) + \" the best position is \"+ str(Alpha_pos))\n",
        "    timerEnd = time.time()\n",
        "    s.endTime = time.strftime(\"%Y-%m-%d-%H-%M-%S\")\n",
        "    s.executionTime = timerEnd - timerStart\n",
        "    s.convergence = Convergence_curve\n",
        "    s.optimizer = \"GWO\"\n",
        "    s.objfname = objf.__name__\n",
        "\n",
        "    return"
      ]
    },
    {
      "cell_type": "code",
      "execution_count": null,
      "metadata": {
        "colab": {
          "base_uri": "https://localhost:8080/"
        },
        "id": "HXi-kBrvodlN",
        "outputId": "e01afdd1-0aca-49c6-ce04-f4aab1567aee"
      },
      "outputs": [
        {
          "name": "stdout",
          "output_type": "stream",
          "text": [
            "GWO is optimizing  \"fitness_ug\"\n",
            "['At iteration 0 the best fitness is [244.17917454]']\n",
            "['At iteration 1 the best fitness is [372.48139275]']\n",
            "['At iteration 2 the best fitness is [411.74173869]']\n",
            "['At iteration 3 the best fitness is [432.84931579]']\n",
            "['At iteration 4 the best fitness is [451.01787811]']\n",
            "['At iteration 5 the best fitness is [451.01787811]']\n",
            "['At iteration 6 the best fitness is [452.00632812]']\n",
            "['At iteration 7 the best fitness is [452.2953878]']\n",
            "['At iteration 8 the best fitness is [454.18831724]']\n",
            "['At iteration 9 the best fitness is [455.54973787]']\n",
            "['At iteration 10 the best fitness is [455.54973787]']\n",
            "['At iteration 11 the best fitness is [455.54973787]']\n",
            "['At iteration 12 the best fitness is [455.54973787]']\n",
            "['At iteration 13 the best fitness is [455.56234257]']\n",
            "['At iteration 14 the best fitness is [455.5704975]']\n",
            "['At iteration 15 the best fitness is [455.57500588]']\n",
            "['At iteration 16 the best fitness is [455.57503054]']\n",
            "['At iteration 17 the best fitness is [455.57503054]']\n",
            "['At iteration 18 the best fitness is [455.57503054]']\n",
            "['At iteration 19 the best fitness is [455.57503054]']\n",
            "['At iteration 20 the best fitness is [455.57503054]']\n",
            "['At iteration 21 the best fitness is [455.57503054]']\n",
            "['At iteration 22 the best fitness is [455.57503054]']\n",
            "['At iteration 23 the best fitness is [455.57503054]']\n",
            "['At iteration 24 the best fitness is [455.57503054]']\n",
            "['At iteration 25 the best fitness is [455.57503054]']\n",
            "['At iteration 26 the best fitness is [455.57503054]']\n",
            "['At iteration 27 the best fitness is [455.57503054]']\n",
            "['At iteration 28 the best fitness is [455.57503054]']\n",
            "['At iteration 29 the best fitness is [455.57503054]']\n",
            "['At iteration 30 the best fitness is [455.57503054]']\n",
            "['At iteration 31 the best fitness is [455.57503054]']\n",
            "['At iteration 32 the best fitness is [455.57503054]']\n",
            "['At iteration 33 the best fitness is [455.57503054]']\n",
            "['At iteration 34 the best fitness is [455.57503054]']\n",
            "['At iteration 35 the best fitness is [455.57503054]']\n",
            "['At iteration 36 the best fitness is [455.57503054]']\n",
            "['At iteration 37 the best fitness is [455.57503054]']\n",
            "['At iteration 38 the best fitness is [455.57503054]']\n",
            "['At iteration 39 the best fitness is [455.57503054]']\n",
            "['At iteration 40 the best fitness is [455.57503054]']\n",
            "['At iteration 41 the best fitness is [455.57503054]']\n",
            "['At iteration 42 the best fitness is [455.57503054]']\n",
            "['At iteration 43 the best fitness is [455.57503054]']\n",
            "['At iteration 44 the best fitness is [455.57503054]']\n",
            "['At iteration 45 the best fitness is [455.57503054]']\n",
            "['At iteration 46 the best fitness is [455.57503054]']\n",
            "['At iteration 47 the best fitness is [455.57503054]']\n",
            "['At iteration 48 the best fitness is [455.57503054]']\n",
            "['At iteration 49 the best fitness is [455.57503054]']\n"
          ]
        }
      ],
      "source": [
        "objf = fitness_ug\n",
        "minx = [0, 0, 0, 0, 0, 0, 0]\n",
        "maxx = [7, 10000, 4000, 1, 40, 80, 80]\n",
        "GWO(objf, minx, maxx, 7, 100, 50)"
      ]
    },
    {
      "cell_type": "code",
      "execution_count": null,
      "metadata": {
        "id": "nskTGdvtoRrS"
      },
      "outputs": [],
      "source": [
        "#First implemented Objective Function\n",
        "    # # print(position.shape)\n",
        "    # for i in range(len(position)):\n",
        "    #   xi = position[i]\n",
        "    #   fitness_value += xi*wts[i]\n",
        "    # for i in range(len(position)):\n",
        "    #   isum = 0\n",
        "    #   xi = position[i]\n",
        "    #   for j in range(len(position)):\n",
        "    #     if i+j < 7:\n",
        "    #       xj = position[j+i]\n",
        "    #       fitness_value += xi*xj*wts[isum+j+7]\n",
        "    #   isum += 7-i\n",
        "    # for i in range(len(position)):\n",
        "    #   isum = 0\n",
        "    #   xi = position[i]\n",
        "    #   for j in range(len(position)):\n",
        "    #     jsum = 0\n",
        "    #     if i+j<7:\n",
        "    #       xj = position[i+j]\n",
        "    #       for k in range(len(position)):\n",
        "    #         if i+j+k<7:\n",
        "    #           xk = position[i+j+k]\n",
        "    #           fitness_value += xi*xj*xk*wts[isum + jsum + k + 35]\n",
        "    #     jsum += 7-j\n",
        "    #   isum += (7-i)*((7-i)+1)/2\n",
        "    # for i in range(len(position)):\n",
        "    #   isum = 0\n",
        "    #   xi = position[i]\n",
        "    #   for j in range(len(position)):\n",
        "    #     jsum = 0\n",
        "    #     if i+j<5:\n",
        "    #       xj = position[i+j]\n",
        "    #       for k in range(len(position)):\n",
        "    #         ksum = 0\n",
        "    #         if i+j+k<5:\n",
        "    #           xk = position[i+j+k]\n",
        "    #           for l in range(len(position)):\n",
        "    #             if i+j+k+k>5:\n",
        "    #               xl = position[l]\n",
        "    #               fitness_value += xi*xj*xk*xl*wts[i+j+k+l+55]\n",
        "    #         ksum += 5-k\n",
        "    #     jsum += j*(j+1)/2\n",
        "    #   isum += i*(i+1)*(i+2)/6"
      ]
    }
  ],
  "metadata": {
    "colab": {
      "provenance": []
    },
    "kernelspec": {
      "display_name": "Python 3",
      "name": "python3"
    },
    "language_info": {
      "name": "python"
    }
  },
  "nbformat": 4,
  "nbformat_minor": 0
}